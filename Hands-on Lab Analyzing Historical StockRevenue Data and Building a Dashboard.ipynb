{
 "cells": [
  {
   "cell_type": "markdown",
   "id": "80933022-677c-4719-a0b8-11bb7b284324",
   "metadata": {},
   "source": [
    "<p style=\"text-align:center\">\n",
    "    <a href=\"https://skills.network/?utm_medium=Exinfluencer&utm_source=Exinfluencer&utm_content=000026UJ&utm_term=10006555&utm_id=NA-SkillsNetwork-Channel-SkillsNetworkCoursesIBMDeveloperSkillsNetworkPY0220ENSkillsNetwork900-2022-01-01\" target=\"_blank\">\n",
    "    <img src=\"https://cf-courses-data.s3.us.cloud-object-storage.appdomain.cloud/assets/logos/SN_web_lightmode.png\" width=\"200\" alt=\"Skills Network Logo\">\n",
    "    </a>\n",
    "</p>\n"
   ]
  },
  {
   "cell_type": "markdown",
   "id": "f1bfce07-a195-4060-9b52-4bc3e60f9cfe",
   "metadata": {},
   "source": [
    "<h1>Extracting and Visualizing Stock Data</h1>\n",
    "<h2>Description</h2>\n"
   ]
  },
  {
   "cell_type": "markdown",
   "id": "7e6a259e-54d7-4f69-a52f-8f479dc4a918",
   "metadata": {},
   "source": [
    "Extracting essential data from a dataset and displaying it is a necessary part of data science; therefore individuals can make correct decisions based on the data. In this assignment, you will extract some stock data, you will then display this data in a graph.\n"
   ]
  },
  {
   "cell_type": "markdown",
   "id": "139792e5-4636-4689-8aa1-35fa124ddc76",
   "metadata": {},
   "source": [
    "<h2>Table of Contents</h2>\n",
    "<div class=\"alert alert-block alert-info\" style=\"margin-top: 20px\">\n",
    "    <ul>\n",
    "        <li>Define a Function that Makes a Graph</li>\n",
    "        <li>Question 1: Use yfinance to Extract Stock Data</li>\n",
    "        <li>Question 2: Use Webscraping to Extract Tesla Revenue Data</li>\n",
    "        <li>Question 3: Use yfinance to Extract Stock Data</li>\n",
    "        <li>Question 4: Use Webscraping to Extract GME Revenue Data</li>\n",
    "        <li>Question 5: Plot Tesla Stock Graph</li>\n",
    "        <li>Question 6: Plot GameStop Stock Graph</li>\n",
    "    </ul>\n",
    "<p>\n",
    "    Estimated Time Needed: <strong>30 min</strong></p>\n",
    "</div>\n",
    "\n",
    "<hr>\n"
   ]
  },
  {
   "cell_type": "markdown",
   "id": "87e66db2-f6bb-4b00-9761-586754a09fe9",
   "metadata": {},
   "source": [
    "***Note***:- If you are working Locally using anaconda, please uncomment the following code and execute it.\n",
    "Use the version as per your python version.\n"
   ]
  },
  {
   "cell_type": "code",
   "execution_count": 1,
   "id": "0a89e4c7-bdcb-42c0-ae24-08fb46b23647",
   "metadata": {},
   "outputs": [
    {
     "name": "stdout",
     "output_type": "stream",
     "text": [
      "Requirement already satisfied: yfinance in c:\\users\\siddhesh kumbhar\\appdata\\local\\programs\\python\\python312\\lib\\site-packages (0.2.51)Note: you may need to restart the kernel to use updated packages.\n",
      "\n",
      "Requirement already satisfied: pandas>=1.3.0 in c:\\users\\siddhesh kumbhar\\appdata\\local\\programs\\python\\python312\\lib\\site-packages (from yfinance) (2.2.3)\n",
      "Requirement already satisfied: numpy>=1.16.5 in c:\\users\\siddhesh kumbhar\\appdata\\local\\programs\\python\\python312\\lib\\site-packages (from yfinance) (2.0.2)\n",
      "Requirement already satisfied: requests>=2.31 in c:\\users\\siddhesh kumbhar\\appdata\\local\\programs\\python\\python312\\lib\\site-packages (from yfinance) (2.32.3)\n",
      "Requirement already satisfied: multitasking>=0.0.7 in c:\\users\\siddhesh kumbhar\\appdata\\local\\programs\\python\\python312\\lib\\site-packages (from yfinance) (0.0.11)\n",
      "Requirement already satisfied: lxml>=4.9.1 in c:\\users\\siddhesh kumbhar\\appdata\\local\\programs\\python\\python312\\lib\\site-packages (from yfinance) (5.3.0)\n",
      "Requirement already satisfied: platformdirs>=2.0.0 in c:\\users\\siddhesh kumbhar\\appdata\\roaming\\python\\python312\\site-packages (from yfinance) (4.3.6)\n",
      "Requirement already satisfied: pytz>=2022.5 in c:\\users\\siddhesh kumbhar\\appdata\\local\\programs\\python\\python312\\lib\\site-packages (from yfinance) (2024.2)\n",
      "Requirement already satisfied: frozendict>=2.3.4 in c:\\users\\siddhesh kumbhar\\appdata\\local\\programs\\python\\python312\\lib\\site-packages (from yfinance) (2.4.6)\n",
      "Requirement already satisfied: peewee>=3.16.2 in c:\\users\\siddhesh kumbhar\\appdata\\local\\programs\\python\\python312\\lib\\site-packages (from yfinance) (3.17.8)\n",
      "Requirement already satisfied: beautifulsoup4>=4.11.1 in c:\\users\\siddhesh kumbhar\\appdata\\local\\programs\\python\\python312\\lib\\site-packages (from yfinance) (4.12.3)\n",
      "Requirement already satisfied: html5lib>=1.1 in c:\\users\\siddhesh kumbhar\\appdata\\local\\programs\\python\\python312\\lib\\site-packages (from yfinance) (1.1)\n",
      "Requirement already satisfied: soupsieve>1.2 in c:\\users\\siddhesh kumbhar\\appdata\\local\\programs\\python\\python312\\lib\\site-packages (from beautifulsoup4>=4.11.1->yfinance) (2.6)\n",
      "Requirement already satisfied: six>=1.9 in c:\\users\\siddhesh kumbhar\\appdata\\roaming\\python\\python312\\site-packages (from html5lib>=1.1->yfinance) (1.16.0)\n",
      "Requirement already satisfied: webencodings in c:\\users\\siddhesh kumbhar\\appdata\\local\\programs\\python\\python312\\lib\\site-packages (from html5lib>=1.1->yfinance) (0.5.1)\n",
      "Requirement already satisfied: python-dateutil>=2.8.2 in c:\\users\\siddhesh kumbhar\\appdata\\roaming\\python\\python312\\site-packages (from pandas>=1.3.0->yfinance) (2.9.0.post0)\n",
      "Requirement already satisfied: tzdata>=2022.7 in c:\\users\\siddhesh kumbhar\\appdata\\local\\programs\\python\\python312\\lib\\site-packages (from pandas>=1.3.0->yfinance) (2024.2)\n",
      "Requirement already satisfied: charset-normalizer<4,>=2 in c:\\users\\siddhesh kumbhar\\appdata\\local\\programs\\python\\python312\\lib\\site-packages (from requests>=2.31->yfinance) (3.3.2)\n",
      "Requirement already satisfied: idna<4,>=2.5 in c:\\users\\siddhesh kumbhar\\appdata\\local\\programs\\python\\python312\\lib\\site-packages (from requests>=2.31->yfinance) (3.10)\n",
      "Requirement already satisfied: urllib3<3,>=1.21.1 in c:\\users\\siddhesh kumbhar\\appdata\\local\\programs\\python\\python312\\lib\\site-packages (from requests>=2.31->yfinance) (2.2.3)\n",
      "Requirement already satisfied: certifi>=2017.4.17 in c:\\users\\siddhesh kumbhar\\appdata\\local\\programs\\python\\python312\\lib\\site-packages (from requests>=2.31->yfinance) (2024.8.30)\n",
      "Collecting bs4\n",
      "  Downloading bs4-0.0.2-py2.py3-none-any.whl.metadata (411 bytes)\n",
      "Requirement already satisfied: beautifulsoup4 in c:\\users\\siddhesh kumbhar\\appdata\\local\\programs\\python\\python312\\lib\\site-packages (from bs4) (4.12.3)\n",
      "Requirement already satisfied: soupsieve>1.2 in c:\\users\\siddhesh kumbhar\\appdata\\local\\programs\\python\\python312\\lib\\site-packages (from beautifulsoup4->bs4) (2.6)\n",
      "Downloading bs4-0.0.2-py2.py3-none-any.whl (1.2 kB)\n",
      "Installing collected packages: bs4\n",
      "Successfully installed bs4-0.0.2\n",
      "Note: you may need to restart the kernel to use updated packages.\n",
      "Requirement already satisfied: nbformat in c:\\users\\siddhesh kumbhar\\appdata\\local\\programs\\python\\python312\\lib\\site-packages (5.10.4)\n",
      "Requirement already satisfied: fastjsonschema>=2.15 in c:\\users\\siddhesh kumbhar\\appdata\\local\\programs\\python\\python312\\lib\\site-packages (from nbformat) (2.20.0)\n",
      "Requirement already satisfied: jsonschema>=2.6 in c:\\users\\siddhesh kumbhar\\appdata\\local\\programs\\python\\python312\\lib\\site-packages (from nbformat) (4.23.0)\n",
      "Requirement already satisfied: jupyter-core!=5.0.*,>=4.12 in c:\\users\\siddhesh kumbhar\\appdata\\roaming\\python\\python312\\site-packages (from nbformat) (5.7.2)\n",
      "Requirement already satisfied: traitlets>=5.1 in c:\\users\\siddhesh kumbhar\\appdata\\roaming\\python\\python312\\site-packages (from nbformat) (5.14.3)\n",
      "Requirement already satisfied: attrs>=22.2.0 in c:\\users\\siddhesh kumbhar\\appdata\\local\\programs\\python\\python312\\lib\\site-packages (from jsonschema>=2.6->nbformat) (24.2.0)\n",
      "Requirement already satisfied: jsonschema-specifications>=2023.03.6 in c:\\users\\siddhesh kumbhar\\appdata\\local\\programs\\python\\python312\\lib\\site-packages (from jsonschema>=2.6->nbformat) (2024.10.1)\n",
      "Requirement already satisfied: referencing>=0.28.4 in c:\\users\\siddhesh kumbhar\\appdata\\local\\programs\\python\\python312\\lib\\site-packages (from jsonschema>=2.6->nbformat) (0.35.1)\n",
      "Requirement already satisfied: rpds-py>=0.7.1 in c:\\users\\siddhesh kumbhar\\appdata\\local\\programs\\python\\python312\\lib\\site-packages (from jsonschema>=2.6->nbformat) (0.21.0)\n",
      "Requirement already satisfied: platformdirs>=2.5 in c:\\users\\siddhesh kumbhar\\appdata\\roaming\\python\\python312\\site-packages (from jupyter-core!=5.0.*,>=4.12->nbformat) (4.3.6)\n",
      "Requirement already satisfied: pywin32>=300 in c:\\users\\siddhesh kumbhar\\appdata\\roaming\\python\\python312\\site-packages (from jupyter-core!=5.0.*,>=4.12->nbformat) (306)\n",
      "Note: you may need to restart the kernel to use updated packages.\n"
     ]
    }
   ],
   "source": [
    "%pip install yfinance\n",
    "%pip install bs4\n",
    "%pip install nbformat "
   ]
  },
  {
   "cell_type": "code",
   "execution_count": 2,
   "id": "d2db190a-cf90-48a5-affd-ab9943183774",
   "metadata": {},
   "outputs": [],
   "source": [
    "import yfinance as yf\n",
    "import pandas as pd\n",
    "import requests\n",
    "from bs4 import BeautifulSoup\n",
    "import plotly.graph_objects as go\n",
    "from plotly.subplots import make_subplots"
   ]
  },
  {
   "cell_type": "markdown",
   "id": "304b9631-0f5c-4aac-8244-2b0ff871cd14",
   "metadata": {},
   "source": [
    "In Python, you can ignore warnings using the warnings module. You can use the filterwarnings function to filter or ignore specific warning messages or categories.\n"
   ]
  },
  {
   "cell_type": "code",
   "execution_count": 3,
   "id": "1216b0ad-7f7c-44a8-913c-948faa1982ad",
   "metadata": {},
   "outputs": [],
   "source": [
    "import warnings\n",
    "# Ignore all warnings\n",
    "warnings.filterwarnings(\"ignore\", category=FutureWarning) "
   ]
  },
  {
   "cell_type": "markdown",
   "id": "584f3c98-8c38-40ff-820c-d773f167f69a",
   "metadata": {},
   "source": [
    "## Define Graphing Function\n"
   ]
  },
  {
   "cell_type": "markdown",
   "id": "2666edd0-c45e-4680-92f8-3030cd6e02a7",
   "metadata": {},
   "source": [
    "In this section, we define the function `make_graph`. **You don't have to know how the function works, you should only care about the inputs. It takes a dataframe with stock data (dataframe must contain Date and Close columns), a dataframe with revenue data (dataframe must contain Date and Revenue columns), and the name of the stock.**\n"
   ]
  },
  {
   "cell_type": "code",
   "execution_count": 4,
   "id": "41ebb861-8ae1-430c-9cff-06afde64af78",
   "metadata": {},
   "outputs": [],
   "source": [
    "def make_graph(stock_data, revenue_data, stock):\n",
    "    fig = make_subplots(rows=2, cols=1, shared_xaxes=True, subplot_titles=(\"Historical Share Price\", \"Historical Revenue\"), vertical_spacing = .3)\n",
    "    stock_data_specific = stock_data[stock_data.Date <= '2021-06-14']\n",
    "    revenue_data_specific = revenue_data[revenue_data.Date <= '2021-04-30']\n",
    "    fig.add_trace(go.Scatter(x=pd.to_datetime(stock_data_specific.Date, infer_datetime_format=True), y=stock_data_specific.Close.astype(\"float\"), name=\"Share Price\"), row=1, col=1)\n",
    "    fig.add_trace(go.Scatter(x=pd.to_datetime(revenue_data_specific.Date, infer_datetime_format=True), y=revenue_data_specific.Revenue.astype(\"float\"), name=\"Revenue\"), row=2, col=1)\n",
    "    fig.update_xaxes(title_text=\"Date\", row=1, col=1)\n",
    "    fig.update_xaxes(title_text=\"Date\", row=2, col=1)\n",
    "    fig.update_yaxes(title_text=\"Price ($US)\", row=1, col=1)\n",
    "    fig.update_yaxes(title_text=\"Revenue ($US Millions)\", row=2, col=1)\n",
    "    fig.update_layout(showlegend=False,\n",
    "    height=900,\n",
    "    title=stock,\n",
    "    xaxis_rangeslider_visible=True)\n",
    "    fig.show()"
   ]
  },
  {
   "cell_type": "markdown",
   "id": "d1fd6182-18d9-4f6f-a030-b365531a34b3",
   "metadata": {},
   "source": [
    "Use the make_graph function that we’ve already defined. You’ll need to invoke it in questions 5 and 6 to display the graphs and create the dashboard. \n",
    "> **Note: You don’t need to redefine the function for plotting graphs anywhere else in this notebook; just use the existing function.**\n"
   ]
  },
  {
   "cell_type": "markdown",
   "id": "c5c976af-1317-48c3-94af-e4a0e12f45dc",
   "metadata": {},
   "source": [
    "## Question 1: Use yfinance to Extract Stock Data\n"
   ]
  },
  {
   "cell_type": "markdown",
   "id": "86945f99-a8cb-4a80-a460-05c4105f7faa",
   "metadata": {},
   "source": [
    "Using the `Ticker` function enter the ticker symbol of the stock we want to extract data on to create a ticker object. The stock is Tesla and its ticker symbol is `TSLA`.\n"
   ]
  },
  {
   "cell_type": "code",
   "execution_count": 5,
   "id": "1fb6f789-c6dc-4ff7-b76e-5023c380ccda",
   "metadata": {},
   "outputs": [
    {
     "name": "stdout",
     "output_type": "stream",
     "text": [
      "yfinance.Ticker object <TSLA>\n"
     ]
    }
   ],
   "source": [
    "import yfinance as yf\n",
    "\n",
    "# Define the ticker symbol for Tesla\n",
    "ticker_symbol = \"TSLA\"\n",
    "\n",
    "# Create a ticker object using the ticker symbol\n",
    "tesla_ticker = yf.Ticker(ticker_symbol)\n",
    "\n",
    "# Print the ticker object (optional)\n",
    "print(tesla_ticker) "
   ]
  },
  {
   "cell_type": "markdown",
   "id": "7cd635b4-779d-4af4-b2de-b050a529c91a",
   "metadata": {},
   "source": [
    "Using the ticker object and the function `history` extract stock information and save it in a dataframe named `tesla_data`. Set the `period` parameter to ` \"max\" ` so we get information for the maximum amount of time.\n"
   ]
  },
  {
   "cell_type": "code",
   "execution_count": 6,
   "id": "9f6ef678-e90b-4359-bbd7-7f6acacc820d",
   "metadata": {},
   "outputs": [
    {
     "name": "stdout",
     "output_type": "stream",
     "text": [
      "                               Open      High       Low     Close     Volume  \\\n",
      "Date                                                                           \n",
      "2010-06-29 00:00:00-04:00  1.266667  1.666667  1.169333  1.592667  281494500   \n",
      "2010-06-30 00:00:00-04:00  1.719333  2.028000  1.553333  1.588667  257806500   \n",
      "2010-07-01 00:00:00-04:00  1.666667  1.728000  1.351333  1.464000  123282000   \n",
      "2010-07-02 00:00:00-04:00  1.533333  1.540000  1.247333  1.280000   77097000   \n",
      "2010-07-06 00:00:00-04:00  1.333333  1.333333  1.055333  1.074000  103003500   \n",
      "\n",
      "                           Dividends  Stock Splits  \n",
      "Date                                                \n",
      "2010-06-29 00:00:00-04:00        0.0           0.0  \n",
      "2010-06-30 00:00:00-04:00        0.0           0.0  \n",
      "2010-07-01 00:00:00-04:00        0.0           0.0  \n",
      "2010-07-02 00:00:00-04:00        0.0           0.0  \n",
      "2010-07-06 00:00:00-04:00        0.0           0.0  \n"
     ]
    }
   ],
   "source": [
    "import yfinance as yf\n",
    "\n",
    "# Define the ticker symbol for Tesla\n",
    "ticker_symbol = \"TSLA\"\n",
    "\n",
    "# Create a ticker object using the ticker symbol\n",
    "tesla_ticker = yf.Ticker(ticker_symbol)\n",
    "\n",
    "# Extract stock data using the history function with period=\"max\"\n",
    "tesla_data = tesla_ticker.history(period=\"max\")\n",
    "\n",
    "# Print the first few rows of the DataFrame\n",
    "print(tesla_data.head()) \n"
   ]
  },
  {
   "cell_type": "markdown",
   "id": "5df7b64e-9692-4cb2-bc43-dd699d4188bf",
   "metadata": {},
   "source": [
    "**Reset the index** using the `reset_index(inplace=True)` function on the tesla_data DataFrame and display the first five rows of the `tesla_data` dataframe using the `head` function. Take a screenshot of the results and code from the beginning of Question 1 to the results below.\n"
   ]
  },
  {
   "cell_type": "code",
   "execution_count": 7,
   "id": "186282ae-344a-435b-83f5-dbb4bf43173c",
   "metadata": {},
   "outputs": [
    {
     "name": "stdout",
     "output_type": "stream",
     "text": [
      "                       Date      Open      High       Low     Close  \\\n",
      "0 2010-06-29 00:00:00-04:00  1.266667  1.666667  1.169333  1.592667   \n",
      "1 2010-06-30 00:00:00-04:00  1.719333  2.028000  1.553333  1.588667   \n",
      "2 2010-07-01 00:00:00-04:00  1.666667  1.728000  1.351333  1.464000   \n",
      "3 2010-07-02 00:00:00-04:00  1.533333  1.540000  1.247333  1.280000   \n",
      "4 2010-07-06 00:00:00-04:00  1.333333  1.333333  1.055333  1.074000   \n",
      "\n",
      "      Volume  Dividends  Stock Splits  \n",
      "0  281494500        0.0           0.0  \n",
      "1  257806500        0.0           0.0  \n",
      "2  123282000        0.0           0.0  \n",
      "3   77097000        0.0           0.0  \n",
      "4  103003500        0.0           0.0  \n"
     ]
    }
   ],
   "source": [
    "import yfinance as yf\n",
    "\n",
    "# Define the ticker symbol for Tesla\n",
    "ticker_symbol = \"TSLA\"\n",
    "\n",
    "# Create a ticker object using the ticker symbol\n",
    "tesla_ticker = yf.Ticker(ticker_symbol)\n",
    "\n",
    "# Extract stock data using the history function with period=\"max\"\n",
    "tesla_data = tesla_ticker.history(period=\"max\")\n",
    "\n",
    "# Reset the index \n",
    "tesla_data.reset_index(inplace=True)\n",
    "\n",
    "# Display the first five rows of the DataFrame\n",
    "print(tesla_data.head()) \n"
   ]
  },
  {
   "cell_type": "markdown",
   "id": "c35704c9-45ef-4051-8fa4-5cc2aa44d7e8",
   "metadata": {},
   "source": [
    "## Question 2: Use Webscraping to Extract Tesla Revenue Data\n"
   ]
  },
  {
   "cell_type": "markdown",
   "id": "e7f0c947-a18b-47ae-9ddc-c47915e55f62",
   "metadata": {},
   "source": [
    "Use the `requests` library to download the webpage https://cf-courses-data.s3.us.cloud-object-storage.appdomain.cloud/IBMDeveloperSkillsNetwork-PY0220EN-SkillsNetwork/labs/project/revenue.htm Save the text of the response as a variable named `html_data`.\n"
   ]
  },
  {
   "cell_type": "code",
   "execution_count": 8,
   "id": "6ce9cbbb-560d-4973-a051-b3640648f243",
   "metadata": {},
   "outputs": [
    {
     "name": "stdout",
     "output_type": "stream",
     "text": [
      "Successfully downloaded HTML data.\n"
     ]
    }
   ],
   "source": [
    "import requests\n",
    "\n",
    "# Define the URL of the webpage containing Tesla revenue data\n",
    "url = \"https://cf-courses-data.s3.us.cloud-object-storage.appdomain.cloud/IBMDeveloperSkillsNetwork-PY0220EN-SkillsNetwork/labs/project/revenue.htm\"\n",
    "\n",
    "# Send a GET request to the URL and store the response\n",
    "response = requests.get(url)\n",
    "\n",
    "# Check for successful response\n",
    "if response.status_code == 200:\n",
    "  # Extract the HTML content from the response\n",
    "  html_data = response.text\n",
    "  print(\"Successfully downloaded HTML data.\")\n",
    "else:\n",
    "  print(f\"Failed to download webpage. Status code: {response.status_code}\")"
   ]
  },
  {
   "cell_type": "markdown",
   "id": "0b60dcd3-4243-46bf-bf6b-de4e84a8bf70",
   "metadata": {},
   "source": [
    "Parse the html data using `beautiful_soup` using parser i.e `html5lib` or `html.parser`. \n"
   ]
  },
  {
   "cell_type": "code",
   "execution_count": 9,
   "id": "e30831b4-877d-4544-8bbb-a8a905647696",
   "metadata": {},
   "outputs": [],
   "source": [
    "import requests\n",
    "from bs4 import BeautifulSoup\n",
    "\n",
    "# Define the URL of the webpage\n",
    "url = \"https://cf-courses-data.s3.us.cloud-object-storage.appdomain.cloud/IBMDeveloperSkillsNetwork-PY0220EN-SkillsNetwork/labs/project/revenue.htm\"\n",
    "\n",
    "# Send a GET request to the URL\n",
    "response = requests.get(url)\n",
    "\n",
    "# Check for successful response\n",
    "if response.status_code == 200:\n",
    "    # Extract the HTML content from the response\n",
    "    html_data = response.text\n",
    "\n",
    "    # Parse the HTML content using BeautifulSoup with 'html.parser'\n",
    "    soup = BeautifulSoup(html_data, 'html.parser') \n",
    "\n",
    "    # Print the parsed HTML content (optional)\n",
    "    # print(soup.prettify()) \n",
    "\n",
    "else:\n",
    "    print(f\"Failed to download webpage. Status code: {response.status_code}\")"
   ]
  },
  {
   "cell_type": "markdown",
   "id": "3c5ff348-f391-4349-bf2d-492e9e0ea121",
   "metadata": {},
   "source": [
    "Using `BeautifulSoup` or the `read_html` function extract the table with `Tesla Revenue` and store it into a dataframe named `tesla_revenue`. The dataframe should have columns `Date` and `Revenue`.\n"
   ]
  },
  {
   "cell_type": "markdown",
   "id": "1e0c612b-26aa-42a9-95a9-10565e3936ab",
   "metadata": {},
   "source": [
    "<details><summary>Step-by-step instructions</summary>\n",
    "\n",
    "```\n",
    "\n",
    "Here are the step-by-step instructions:\n",
    "\n",
    "1. Create an Empty DataFrame\n",
    "2. Find the Relevant Table\n",
    "3. Check for the Tesla Quarterly Revenue Table\n",
    "4. Iterate Through Rows in the Table Body\n",
    "5. Extract Data from Columns\n",
    "6. Append Data to the DataFrame\n",
    "\n",
    "```\n",
    "</details>\n"
   ]
  },
  {
   "cell_type": "markdown",
   "id": "bd2a1183-caad-4e33-bc05-b0d419d8d3c4",
   "metadata": {},
   "source": [
    "<details><summary>Click here if you need help locating the table</summary>\n",
    "\n",
    "```\n",
    "    \n",
    "Below is the code to isolate the table, you will now need to loop through the rows and columns like in the previous lab\n",
    "    \n",
    "soup.find_all(\"tbody\")[1]\n",
    "    \n",
    "If you want to use the read_html function the table is located at index 1\n",
    "\n",
    "We are focusing on quarterly revenue in the lab.\n",
    "```\n",
    "\n",
    "</details>\n"
   ]
  },
  {
   "cell_type": "code",
   "execution_count": 10,
   "id": "50d142c9-9110-4d0b-824b-498cb55fff8a",
   "metadata": {},
   "outputs": [
    {
     "name": "stdout",
     "output_type": "stream",
     "text": [
      "         Date  Revenue\n",
      "0  2022-09-30  $21,454\n",
      "1  2022-06-30  $16,934\n",
      "2  2022-03-31  $18,756\n",
      "3  2021-12-31  $17,719\n",
      "4  2021-09-30  $13,757\n"
     ]
    }
   ],
   "source": [
    "import requests\n",
    "from bs4 import BeautifulSoup\n",
    "import pandas as pd\n",
    "\n",
    "# Define the URL of the webpage\n",
    "url = \"https://cf-courses-data.s3.us.cloud-object-storage.appdomain.cloud/IBMDeveloperSkillsNetwork-PY0220EN-SkillsNetwork/labs/project/revenue.htm\"\n",
    "\n",
    "# Send a GET request to the URL\n",
    "response = requests.get(url)\n",
    "\n",
    "# Check for successful response\n",
    "if response.status_code == 200:\n",
    "    # Extract the HTML content from the response\n",
    "    html_data = response.text\n",
    "\n",
    "    # Parse the HTML content using BeautifulSoup with 'html.parser'\n",
    "    soup = BeautifulSoup(html_data, 'html.parser')\n",
    "\n",
    "    # Use pandas read_html to extract the table\n",
    "    tesla_revenue = pd.read_html(str(soup), match='Tesla Quarterly Revenue', flavor='bs4')[0]\n",
    "\n",
    "    # Rename columns to 'Date' and 'Revenue'\n",
    "    tesla_revenue.columns = ['Date', 'Revenue']\n",
    "\n",
    "    # Display the first 5 rows\n",
    "    print(tesla_revenue.head())\n",
    "\n",
    "else:\n",
    "    print(f\"Failed to download webpage. Status code: {response.status_code}\")"
   ]
  },
  {
   "cell_type": "markdown",
   "id": "f297fe4d-8425-48ee-b707-8e790b949a5d",
   "metadata": {},
   "source": [
    "Execute the following line to remove the comma and dollar sign from the `Revenue` column. \n"
   ]
  },
  {
   "cell_type": "code",
   "execution_count": 11,
   "id": "e4b67129-364f-4b17-8f9b-36b1c6bc3186",
   "metadata": {},
   "outputs": [
    {
     "name": "stderr",
     "output_type": "stream",
     "text": [
      "<>:1: SyntaxWarning: invalid escape sequence '\\$'\n",
      "<>:1: SyntaxWarning: invalid escape sequence '\\$'\n",
      "C:\\Users\\Siddhesh Kumbhar\\AppData\\Local\\Temp\\ipykernel_7136\\349343550.py:1: SyntaxWarning: invalid escape sequence '\\$'\n",
      "  tesla_revenue[\"Revenue\"] = tesla_revenue['Revenue'].str.replace(',|\\$',\"\")\n"
     ]
    }
   ],
   "source": [
    "tesla_revenue[\"Revenue\"] = tesla_revenue['Revenue'].str.replace(',|\\$',\"\")"
   ]
  },
  {
   "cell_type": "markdown",
   "id": "9d12eeb3-b531-4986-80c4-04cf56d5f291",
   "metadata": {},
   "source": [
    "Execute the following lines to remove an null or empty strings in the Revenue column.\n"
   ]
  },
  {
   "cell_type": "code",
   "execution_count": 12,
   "id": "7aac03ad-21b5-498d-b90d-c57848944f16",
   "metadata": {},
   "outputs": [],
   "source": [
    "tesla_revenue.dropna(inplace=True)\n",
    "\n",
    "tesla_revenue = tesla_revenue[tesla_revenue['Revenue'] != \"\"]"
   ]
  },
  {
   "cell_type": "markdown",
   "id": "4d954777-5d2f-4cec-b13b-272a63ba2ef8",
   "metadata": {},
   "source": [
    "Display the last 5 row of the `tesla_revenue` dataframe using the `tail` function. Take a screenshot of the results.\n"
   ]
  },
  {
   "cell_type": "code",
   "execution_count": 13,
   "id": "01986b63-fb2e-40b5-8d6a-b8c37695de86",
   "metadata": {},
   "outputs": [
    {
     "name": "stdout",
     "output_type": "stream",
     "text": [
      "          Date Revenue\n",
      "49  2010-06-30     $28\n",
      "50  2010-03-31     $21\n",
      "51  2009-12-31     NaN\n",
      "52  2009-09-30     $46\n",
      "53  2009-06-30     $27\n"
     ]
    }
   ],
   "source": [
    "import requests\n",
    "from bs4 import BeautifulSoup\n",
    "import pandas as pd\n",
    "\n",
    "# Define the URL of the webpage\n",
    "url = \"https://cf-courses-data.s3.us.cloud-object-storage.appdomain.cloud/IBMDeveloperSkillsNetwork-PY0220EN-SkillsNetwork/labs/project/revenue.htm\"\n",
    "\n",
    "# Send a GET request to the URL\n",
    "response = requests.get(url)\n",
    "\n",
    "# Check for successful response\n",
    "if response.status_code == 200:\n",
    "    # Extract the HTML content from the response\n",
    "    html_data = response.text\n",
    "\n",
    "    # Parse the HTML content using BeautifulSoup with 'html.parser'\n",
    "    soup = BeautifulSoup(html_data, 'html.parser')\n",
    "\n",
    "    # Use pandas read_html to extract the table\n",
    "    tesla_revenue = pd.read_html(str(soup), match='Tesla Quarterly Revenue', flavor='bs4')[0]\n",
    "\n",
    "    # Rename columns to 'Date' and 'Revenue'\n",
    "    tesla_revenue.columns = ['Date', 'Revenue']\n",
    "\n",
    "    # Display the last 5 rows\n",
    "    print(tesla_revenue.tail())\n",
    "\n",
    "else:\n",
    "    print(f\"Failed to download webpage. Status code: {response.status_code}\")"
   ]
  },
  {
   "cell_type": "markdown",
   "id": "281c4134-d340-4568-9c94-4323495aad56",
   "metadata": {},
   "source": [
    "## Question 3: Use yfinance to Extract Stock Data \n"
   ]
  },
  {
   "cell_type": "markdown",
   "id": "f5ceb140-5688-4719-abfa-e1371d8d78bc",
   "metadata": {},
   "source": [
    "Using the `Ticker` function enter the ticker symbol of the stock we want to extract data on to create a ticker object. The stock is GameStop and its ticker symbol is `GME`. \n"
   ]
  },
  {
   "cell_type": "code",
   "execution_count": 14,
   "id": "e672f62c-d9d0-47c8-b466-5167b76e17bd",
   "metadata": {},
   "outputs": [
    {
     "name": "stdout",
     "output_type": "stream",
     "text": [
      "yfinance.Ticker object <GME>\n"
     ]
    }
   ],
   "source": [
    "import yfinance as yf\n",
    "\n",
    "# Define the ticker symbol for GameStop\n",
    "ticker_symbol = \"GME\"\n",
    "\n",
    "# Create a ticker object using the ticker symbol\n",
    "gme_ticker = yf.Ticker(ticker_symbol)\n",
    "\n",
    "# Print the ticker object (optional)\n",
    "print(gme_ticker)"
   ]
  },
  {
   "cell_type": "markdown",
   "id": "ddde1c52-eb6a-42e6-aa58-bed17f600f02",
   "metadata": {},
   "source": [
    "Using the ticker object and the function `history` extract stock information and save it in a dataframe named `gme_data`. Set the `period` parameter to ` \"max\" ` so we get information for the maximum amount of time. \n"
   ]
  },
  {
   "cell_type": "code",
   "execution_count": 15,
   "id": "b7df75a9-f8a9-4522-b436-d63bf6bc02f1",
   "metadata": {},
   "outputs": [
    {
     "name": "stdout",
     "output_type": "stream",
     "text": [
      "                               Open      High       Low     Close    Volume  \\\n",
      "Date                                                                          \n",
      "2002-02-13 00:00:00-05:00  1.620128  1.693350  1.603296  1.691667  76216000   \n",
      "2002-02-14 00:00:00-05:00  1.712707  1.716073  1.670626  1.683250  11021600   \n",
      "2002-02-15 00:00:00-05:00  1.683251  1.687459  1.658002  1.674834   8389600   \n",
      "2002-02-19 00:00:00-05:00  1.666418  1.666418  1.578047  1.607504   7410400   \n",
      "2002-02-20 00:00:00-05:00  1.615920  1.662210  1.603296  1.662210   6892800   \n",
      "\n",
      "                           Dividends  Stock Splits  \n",
      "Date                                                \n",
      "2002-02-13 00:00:00-05:00        0.0           0.0  \n",
      "2002-02-14 00:00:00-05:00        0.0           0.0  \n",
      "2002-02-15 00:00:00-05:00        0.0           0.0  \n",
      "2002-02-19 00:00:00-05:00        0.0           0.0  \n",
      "2002-02-20 00:00:00-05:00        0.0           0.0  \n"
     ]
    }
   ],
   "source": [
    "import yfinance as yf\n",
    "\n",
    "# Define the ticker symbol for GameStop\n",
    "ticker_symbol = \"GME\"\n",
    "\n",
    "# Create a ticker object using the ticker symbol\n",
    "gme_ticker = yf.Ticker(ticker_symbol)\n",
    "\n",
    "# Extract stock data using the history function with period=\"max\"\n",
    "gme_data = gme_ticker.history(period=\"max\")\n",
    "\n",
    "# Print the first few rows of the DataFrame\n",
    "print(gme_data.head())"
   ]
  },
  {
   "cell_type": "markdown",
   "id": "ea08aefc-a9b1-44b9-8667-1e25de3500ee",
   "metadata": {},
   "source": [
    "**Reset the index** using the `reset_index(inplace=True)` function on the gme_data DataFrame and display the first five rows of the `gme_data` dataframe using the `head` function. Take a screenshot of the results and code from the beginning of Question 3 to the results below. \n"
   ]
  },
  {
   "cell_type": "code",
   "execution_count": 16,
   "id": "7b994503-4fe0-42c8-9812-6917fdc7647d",
   "metadata": {},
   "outputs": [
    {
     "name": "stdout",
     "output_type": "stream",
     "text": [
      "                       Date      Open      High       Low     Close    Volume  \\\n",
      "0 2002-02-13 00:00:00-05:00  1.620128  1.693350  1.603296  1.691666  76216000   \n",
      "1 2002-02-14 00:00:00-05:00  1.712707  1.716074  1.670626  1.683250  11021600   \n",
      "2 2002-02-15 00:00:00-05:00  1.683250  1.687458  1.658001  1.674834   8389600   \n",
      "3 2002-02-19 00:00:00-05:00  1.666418  1.666418  1.578047  1.607504   7410400   \n",
      "4 2002-02-20 00:00:00-05:00  1.615920  1.662210  1.603296  1.662210   6892800   \n",
      "\n",
      "   Dividends  Stock Splits  \n",
      "0        0.0           0.0  \n",
      "1        0.0           0.0  \n",
      "2        0.0           0.0  \n",
      "3        0.0           0.0  \n",
      "4        0.0           0.0  \n"
     ]
    }
   ],
   "source": [
    "import yfinance as yf\n",
    "\n",
    "# Define the ticker symbol for GameStop\n",
    "ticker_symbol = \"GME\"\n",
    "\n",
    "# Create a ticker object using the ticker symbol\n",
    "gme_ticker = yf.Ticker(ticker_symbol)\n",
    "\n",
    "# Extract stock data using the history function with period=\"max\"\n",
    "gme_data = gme_ticker.history(period=\"max\")\n",
    "\n",
    "# Reset the index \n",
    "gme_data.reset_index(inplace=True)\n",
    "\n",
    "# Display the first five rows of the DataFrame\n",
    "print(gme_data.head()) "
   ]
  },
  {
   "cell_type": "markdown",
   "id": "cafc753b-b0d8-48da-8fab-086cc1e7b097",
   "metadata": {},
   "source": [
    "## Question 4: Use Webscraping to Extract GME Revenue Data \n"
   ]
  },
  {
   "cell_type": "markdown",
   "id": "3963cfc6-a8bd-4f21-88f8-86d998fce024",
   "metadata": {},
   "source": [
    "Use the `requests` library to download the webpage https://cf-courses-data.s3.us.cloud-object-storage.appdomain.cloud/IBMDeveloperSkillsNetwork-PY0220EN-SkillsNetwork/labs/project/stock.html. Save the text of the response as a variable named `html_data_2`.\n"
   ]
  },
  {
   "cell_type": "code",
   "execution_count": 17,
   "id": "b13da1e0-a281-49b3-80ff-076d90524ab2",
   "metadata": {},
   "outputs": [
    {
     "name": "stdout",
     "output_type": "stream",
     "text": [
      "Successfully downloaded HTML data.\n"
     ]
    }
   ],
   "source": [
    "import requests\n",
    "\n",
    "# Define the URL of the webpage containing GME revenue data\n",
    "url = \"https://cf-courses-data.s3.us.cloud-object-storage.appdomain.cloud/IBMDeveloperSkillsNetwork-PY0220EN-SkillsNetwork/labs/project/stock.html\"\n",
    "\n",
    "# Send a GET request to the URL and store the response\n",
    "response = requests.get(url)\n",
    "\n",
    "# Check for successful response\n",
    "if response.status_code == 200:\n",
    "  # Extract the HTML content from the response\n",
    "  html_data_2 = response.text\n",
    "  print(\"Successfully downloaded HTML data.\")\n",
    "else:\n",
    "  print(f\"Failed to download webpage. Status code: {response.status_code}\")"
   ]
  },
  {
   "cell_type": "markdown",
   "id": "dcfead37-a93a-4212-b6a5-853a3f0e3395",
   "metadata": {},
   "source": [
    "Parse the html data using `beautiful_soup` using parser i.e `html5lib` or `html.parser`. \n"
   ]
  },
  {
   "cell_type": "code",
   "execution_count": 18,
   "id": "41700597-0742-4cb4-b400-f218bed49865",
   "metadata": {},
   "outputs": [],
   "source": [
    "import requests\n",
    "from bs4 import BeautifulSoup\n",
    "\n",
    "# Define the URL of the webpage\n",
    "url = \"https://cf-courses-data.s3.us.cloud-object-storage.appdomain.cloud/IBMDeveloperSkillsNetwork-PY0220EN-SkillsNetwork/labs/project/stock.html\"\n",
    "\n",
    "# Send a GET request to the URL\n",
    "response = requests.get(url)\n",
    "\n",
    "# Check for successful response\n",
    "if response.status_code == 200:\n",
    "    # Extract the HTML content from the response\n",
    "    html_data_2 = response.text\n",
    "\n",
    "    # Parse the HTML content using BeautifulSoup with 'html.parser'\n",
    "    soup = BeautifulSoup(html_data_2, 'html.parser') \n",
    "\n",
    "    # Print the parsed HTML content (optional)\n",
    "    # print(soup.prettify()) \n",
    "\n",
    "else:\n",
    "    print(f\"Failed to download webpage. Status code: {response.status_code}\")"
   ]
  },
  {
   "cell_type": "markdown",
   "id": "7eef12e4-4e24-4e6d-8f1b-251ba305f344",
   "metadata": {},
   "source": [
    "Using `BeautifulSoup` or the `read_html` function extract the table with `GameStop Revenue` and store it into a dataframe named `gme_revenue`. The dataframe should have columns `Date` and `Revenue`. Make sure the comma and dollar sign is removed from the `Revenue` column. \n"
   ]
  },
  {
   "cell_type": "markdown",
   "id": "aad1c93a-d35f-47e4-b96f-7d2f4e4e78d7",
   "metadata": {},
   "source": [
    "> **Note: Use the method similar to what you did in question 2.**  \n"
   ]
  },
  {
   "cell_type": "markdown",
   "id": "e4b82e19-4fad-4e8a-942b-3ecb7732229e",
   "metadata": {},
   "source": [
    "<details><summary>Click here if you need help locating the table</summary>\n",
    "\n",
    "```\n",
    "    \n",
    "Below is the code to isolate the table, you will now need to loop through the rows and columns like in the previous lab\n",
    "    \n",
    "soup.find_all(\"tbody\")[1]\n",
    "    \n",
    "If you want to use the read_html function the table is located at index 1\n",
    "\n",
    "\n",
    "```\n",
    "\n",
    "</details>\n"
   ]
  },
  {
   "cell_type": "code",
   "execution_count": 19,
   "id": "0344a327-c02a-430f-b6ef-a5fbb9ebbfae",
   "metadata": {},
   "outputs": [
    {
     "name": "stdout",
     "output_type": "stream",
     "text": [
      "         Date Revenue\n",
      "0  2020-04-30    1021\n",
      "1  2020-01-31    2194\n",
      "2  2019-10-31    1439\n",
      "3  2019-07-31    1286\n",
      "4  2019-04-30    1548\n"
     ]
    }
   ],
   "source": [
    "import requests\n",
    "from bs4 import BeautifulSoup\n",
    "import pandas as pd\n",
    "\n",
    "# Define the URL of the webpage\n",
    "url = \"https://cf-courses-data.s3.us.cloud-object-storage.appdomain.cloud/IBMDeveloperSkillsNetwork-PY0220EN-SkillsNetwork/labs/project/stock.html\"\n",
    "\n",
    "# Send a GET request to the URL\n",
    "response = requests.get(url)\n",
    "\n",
    "# Check for successful response\n",
    "if response.status_code == 200:\n",
    "    # Extract the HTML content from the response\n",
    "    html_data_2 = response.text\n",
    "\n",
    "    # Parse the HTML content using BeautifulSoup with 'html.parser'\n",
    "    soup = BeautifulSoup(html_data_2, 'html.parser')\n",
    "\n",
    "    # Use pandas read_html to extract the table\n",
    "    gme_revenue = pd.read_html(str(soup), match='GameStop Quarterly Revenue', flavor='bs4')[0]\n",
    "\n",
    "    # Rename columns to 'Date' and 'Revenue'\n",
    "    gme_revenue.columns = ['Date', 'Revenue']\n",
    "\n",
    "    # Remove commas and dollar signs from the 'Revenue' column\n",
    "    gme_revenue['Revenue'] = gme_revenue['Revenue'].str.replace(',', '').str.replace('$', '')\n",
    "\n",
    "    # Display the first 5 rows\n",
    "    print(gme_revenue.head())\n",
    "\n",
    "else:\n",
    "    print(f\"Failed to download webpage. Status code: {response.status_code}\")"
   ]
  },
  {
   "cell_type": "markdown",
   "id": "6844901c-b454-4016-be54-bc86ee84bfd2",
   "metadata": {},
   "source": [
    "Display the last five rows of the `gme_revenue` dataframe using the `tail` function. Take a screenshot of the results. \n"
   ]
  },
  {
   "cell_type": "code",
   "execution_count": 20,
   "id": "c486da23-2742-44b9-8392-2fb3e6f44162",
   "metadata": {},
   "outputs": [
    {
     "name": "stdout",
     "output_type": "stream",
     "text": [
      "          Date Revenue\n",
      "57  2006-01-31    1667\n",
      "58  2005-10-31     534\n",
      "59  2005-07-31     416\n",
      "60  2005-04-30     475\n",
      "61  2005-01-31     709\n"
     ]
    }
   ],
   "source": [
    "import requests\n",
    "from bs4 import BeautifulSoup\n",
    "import pandas as pd\n",
    "\n",
    "# Define the URL of the webpage\n",
    "url = \"https://cf-courses-data.s3.us.cloud-object-storage.appdomain.cloud/IBMDeveloperSkillsNetwork-PY0220EN-SkillsNetwork/labs/project/stock.html\"\n",
    "\n",
    "# Send a GET request to the URL\n",
    "response = requests.get(url)\n",
    "\n",
    "# Check for successful response\n",
    "if response.status_code == 200:\n",
    "    # Extract the HTML content from the response\n",
    "    html_data_2 = response.text\n",
    "\n",
    "    # Parse the HTML content using BeautifulSoup with 'html.parser'\n",
    "    soup = BeautifulSoup(html_data_2, 'html.parser')\n",
    "\n",
    "    # Use pandas read_html to extract the table\n",
    "    gme_revenue = pd.read_html(str(soup), match='GameStop Quarterly Revenue', flavor='bs4')[0]\n",
    "\n",
    "    # Rename columns to 'Date' and 'Revenue'\n",
    "    gme_revenue.columns = ['Date', 'Revenue']\n",
    "\n",
    "    # Remove '$' and ',' from the 'Revenue' column\n",
    "    gme_revenue['Revenue'] = gme_revenue['Revenue'].str.replace('$', '', regex=False).str.replace(',', '', regex=False)\n",
    "\n",
    "    # Display the last 5 rows\n",
    "    print(gme_revenue.tail()) \n",
    "\n",
    "else:\n",
    "    print(f\"Failed to download webpage. Status code: {response.status_code}\")"
   ]
  },
  {
   "cell_type": "markdown",
   "id": "78436414-647b-4a6f-b843-27d7ed481f3a",
   "metadata": {},
   "source": [
    "## Question 5: Plot Tesla Stock Graph \n"
   ]
  },
  {
   "cell_type": "markdown",
   "id": "8bbb4a73-ce24-4ce7-839a-0d533afbe789",
   "metadata": {},
   "source": [
    "Use the `make_graph` function to graph the Tesla Stock Data, also provide a title for the graph. Note the graph will only show data upto June 2021.\n",
    " "
   ]
  },
  {
   "cell_type": "markdown",
   "id": "b59bfe8d-07c0-43a8-983c-4c3d997aeb74",
   "metadata": {},
   "source": [
    "<details><summary>Hint</summary>\n",
    "\n",
    "```\n",
    "\n",
    "You just need to invoke the make_graph function with the required parameter to print the graphs.The structure to call the `make_graph` function is `make_graph(tesla_data, tesla_revenue, 'Tesla')`.\n",
    "\n",
    "```\n",
    "    \n",
    "</details>\n"
   ]
  },
  {
   "cell_type": "code",
   "execution_count": 21,
   "id": "1e982bcc-13e3-4a50-b676-e5b3ce991a6c",
   "metadata": {},
   "outputs": [
    {
     "data": {
      "image/png": "[encoded data removed]",
      "text/plain": [
       "<Figure size 1200x600 with 1 Axes>"
      ]
     },
     "metadata": {},
     "output_type": "display_data"
    }
   ],
   "source": [
    "import yfinance as yf\n",
    "import matplotlib.pyplot as plt\n",
    "\n",
    "# Define the ticker symbol for Tesla\n",
    "ticker_symbol = \"TSLA\"\n",
    "\n",
    "# Create a ticker object using the ticker symbol\n",
    "tesla_ticker = yf.Ticker(ticker_symbol)\n",
    "\n",
    "# Extract stock data using the history function with period=\"max\"\n",
    "tesla_data = tesla_ticker.history(period=\"max\")\n",
    "\n",
    "# Reset the index \n",
    "tesla_data.reset_index(inplace=True)\n",
    "\n",
    "# Filter data up to June 2021\n",
    "tesla_data_filtered = tesla_data[tesla_data['Date'] <= '2021-06-30']\n",
    "\n",
    "# Create the plot\n",
    "plt.figure(figsize=(12, 6))\n",
    "plt.plot(tesla_data_filtered['Date'], tesla_data_filtered['Close'])\n",
    "plt.xlabel('Date')\n",
    "plt.ylabel('Close Price (USD)')\n",
    "plt.title('Tesla Stock Price (Up to June 2021)')\n",
    "plt.grid(True)\n",
    "plt.xticks(rotation=45) \n",
    "plt.show() "
   ]
  },
  {
   "cell_type": "markdown",
   "id": "1f018fe1-56cd-4429-b43a-557a73d8a101",
   "metadata": {},
   "source": [
    "## Question 6: Plot GameStop Stock Graph \n"
   ]
  },
  {
   "cell_type": "markdown",
   "id": "22d5474d-8a90-48dd-899f-cd05aea3fa30",
   "metadata": {},
   "source": [
    "Use the `make_graph` function to graph the GameStop Stock Data, also provide a title for the graph. The structure to call the `make_graph` function is `make_graph(gme_data, gme_revenue, 'GameStop')`. Note the graph will only show data upto June 2021. \n"
   ]
  },
  {
   "cell_type": "markdown",
   "id": "11559803-3992-423d-b83d-a8664b6c2687",
   "metadata": {},
   "source": [
    "<details><summary>Hint</summary>\n",
    "\n",
    "```\n",
    "\n",
    "You just need to invoke the make_graph function with the required parameter to print the graphs.The structure to call the `make_graph` function is `make_graph(gme_data, gme_revenue, 'GameStop')`\n",
    "\n",
    "```\n",
    "    \n",
    "</details>\n"
   ]
  },
  {
   "cell_type": "code",
   "execution_count": 22,
   "id": "18f845e4-f222-4f46-a87d-d44e63468a9d",
   "metadata": {},
   "outputs": [
    {
     "data": {
      "image/png": "[encoded data removed]",
      "text/plain": [
       "<Figure size 1200x600 with 1 Axes>"
      ]
     },
     "metadata": {},
     "output_type": "display_data"
    }
   ],
   "source": [
    "import yfinance as yf\n",
    "import matplotlib.pyplot as plt\n",
    "\n",
    "def make_graph(stock_data, revenue_data, company_name):\n",
    "    \"\"\"\n",
    "    Plots the stock price and revenue of a given company.\n",
    "\n",
    "    Args:\n",
    "        stock_data: DataFrame containing stock data.\n",
    "        revenue_data: DataFrame containing revenue data.\n",
    "        company_name: Name of the company (e.g., \"GameStop\", \"Tesla\").\n",
    "\n",
    "    \"\"\"\n",
    "    # Filter data up to June 2021\n",
    "    stock_data_filtered = stock_data[stock_data['Date'] <= '2021-06-30']\n",
    "\n",
    "    # Create the plot\n",
    "    plt.figure(figsize=(12, 6))\n",
    "    plt.plot(stock_data_filtered['Date'], stock_data_filtered['Close'])\n",
    "    plt.xlabel('Date')\n",
    "    plt.ylabel('Close Price (USD)')\n",
    "    plt.title(f'{company_name} Stock Price (Up to June 2021)')\n",
    "    plt.grid(True)\n",
    "    plt.xticks(rotation=45) \n",
    "    plt.show()\n",
    "\n",
    "# Define the ticker symbol for GameStop\n",
    "ticker_symbol = \"GME\"\n",
    "\n",
    "# Create a ticker object using the ticker symbol\n",
    "gme_ticker = yf.Ticker(ticker_symbol)\n",
    "\n",
    "# Extract stock data using the history function with period=\"max\"\n",
    "gme_data = gme_ticker.history(period=\"max\")\n",
    "\n",
    "# Reset the index \n",
    "gme_data.reset_index(inplace=True)\n",
    "\n",
    "# Call the make_graph function\n",
    "make_graph(gme_data, gme_revenue, 'GameStop') "
   ]
  },
  {
   "cell_type": "markdown",
   "id": "819c5ecc-95c5-4d0c-8acb-1b909379913d",
   "metadata": {},
   "source": [
    "<h2>About the Authors:</h2> \n",
    "\n",
    "<a href=\"https://www.linkedin.com/in/joseph-s-50398b136/\">Joseph Santarcangelo</a> has a PhD in Electrical Engineering, his research focused on using machine learning, signal processing, and computer vision to determine how videos impact human cognition. Joseph has been working for IBM since he completed his PhD.\n",
    "\n",
    "Azim Hirjani\n"
   ]
  },
  {
   "cell_type": "markdown",
   "id": "9f5e328d-0bd6-4b85-8e48-21ac30ea6da3",
   "metadata": {},
   "source": [
    "## Change Log\n",
    "\n",
    "| Date (YYYY-MM-DD) | Version | Changed By    | Change Description        |\n",
    "| ----------------- | ------- | ------------- | ------------------------- |\n",
    "| 2022-02-28        | 1.2     | Lakshmi Holla | Changed the URL of GameStop |\n",
    "| 2020-11-10        | 1.1     | Malika Singla | Deleted the Optional part |\n",
    "| 2020-08-27        | 1.0     | Malika Singla | Added lab to GitLab       |\n",
    "\n",
    "<hr>\n",
    "\n",
    "## <h3 align=\"center\"> © IBM Corporation 2020. All rights reserved. <h3/>\n",
    "\n",
    "<p>\n"
   ]
  }
 ],
 "metadata": {
  "kernelspec": {
   "display_name": "Python 3",
   "language": "python",
   "name": "python3"
  },
  "language_info": {
   "codemirror_mode": {
    "name": "ipython",
    "version": 3
   },
   "file_extension": ".py",
   "mimetype": "text/x-python",
   "name": "python",
   "nbconvert_exporter": "python",
   "pygments_lexer": "ipython3",
   "version": "3.12.6"
  },
  "prev_pub_hash": "2394e43de8043319cad418d17eee53a62befece05145764d1d80fe8937a818b2"
 },
 "nbformat": 4,
 "nbformat_minor": 4
}
